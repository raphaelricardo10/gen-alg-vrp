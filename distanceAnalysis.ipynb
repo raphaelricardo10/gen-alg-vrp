{
 "cells": [
  {
   "cell_type": "code",
   "execution_count": 7,
   "metadata": {},
   "outputs": [],
   "source": [
    "import os\n",
    "\n",
    "from GALib import GALib\n",
    "from data import addresses\n",
    "from routingGA import RoutingGA\n",
    "from distancesAPI import MapsAPI"
   ]
  },
  {
   "cell_type": "code",
   "execution_count": 4,
   "metadata": {},
   "outputs": [],
   "source": [
    "mapsAPI = MapsAPI(os.getenv('API_KEY'))\n",
    "address_chunks = MapsAPI.split_in_chunks(addresses, 25)\n",
    "distances = MapsAPI.split_distance_request(address_chunks) if os.getenv('GET_DISTANCES', False) else MapsAPI.get_from_cache()\n",
    "distances = MapsAPI.convert_to_symmetric(distances)"
   ]
  },
  {
   "cell_type": "code",
   "execution_count": 5,
   "metadata": {},
   "outputs": [
    {
     "name": "stdout",
     "output_type": "stream",
     "text": [
      "97484"
     ]
    }
   ],
   "source": [
    "routingGA = RoutingGA(popSize=50, qtyLocations=len(distances) - 1, qtyRoutes=5,\n",
    "                          maxGenerations=100, selectionK=3, mutationRate=0.05, distances=distances)\n",
    "                          \n",
    "lib = GALib(routingGA=routingGA,\n",
    "            libPath=os.getenv('LIB_PATH'))\n",
    "\n",
    "lib.run()"
   ]
  }
 ],
 "metadata": {
  "kernelspec": {
   "display_name": "Python 3.8.10 ('venv': venv)",
   "language": "python",
   "name": "python3"
  },
  "language_info": {
   "codemirror_mode": {
    "name": "ipython",
    "version": 3
   },
   "file_extension": ".py",
   "mimetype": "text/x-python",
   "name": "python",
   "nbconvert_exporter": "python",
   "pygments_lexer": "ipython3",
   "version": "3.8.10"
  },
  "orig_nbformat": 4,
  "vscode": {
   "interpreter": {
    "hash": "f05a8700d02b0bf80292e9a8ff12fc6d1d5cb4c23f0edcc4b46af3b308e591ed"
   }
  }
 },
 "nbformat": 4,
 "nbformat_minor": 2
}
