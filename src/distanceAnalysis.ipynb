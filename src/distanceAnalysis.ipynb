{
 "cells": [
  {
   "cell_type": "code",
   "execution_count": 26,
   "metadata": {},
   "outputs": [
    {
     "data": {
      "text/plain": [
       "True"
      ]
     },
     "execution_count": 26,
     "metadata": {},
     "output_type": "execute_result"
    }
   ],
   "source": [
    "import os\n",
    "import pandas as pd\n",
    "import pickle\n",
    "\n",
    "from dotenv import load_dotenv\n",
    "from routingGA import RoutingGA\n",
    "from GALib import GALib\n",
    "from data.addresses import addresses\n",
    "from distancesAPI import MapsAPI\n",
    "\n",
    "%reload_ext autoreload\n",
    "%autoreload 2\n",
    "\n",
    "load_dotenv()"
   ]
  },
  {
   "cell_type": "code",
   "execution_count": 27,
   "metadata": {},
   "outputs": [],
   "source": [
    "refetch_distances = False\n",
    "calculate_time = False"
   ]
  },
  {
   "cell_type": "code",
   "execution_count": 28,
   "metadata": {},
   "outputs": [],
   "source": [
    "mapsAPI = MapsAPI(os.getenv('API_KEY'))\n",
    "address_chunks = MapsAPI.split_in_chunks(addresses, 25)\n",
    "distances = mapsAPI.split_distance_request(address_chunks, calculateTime = calculate_time) if refetch_distances else MapsAPI.get_from_cache()\n",
    "distances = MapsAPI.convert_to_symmetric(distances)"
   ]
  },
  {
   "cell_type": "code",
   "execution_count": 29,
   "metadata": {},
   "outputs": [],
   "source": [
    "df = pd.DataFrame(distances)"
   ]
  },
  {
   "cell_type": "code",
   "execution_count": 49,
   "metadata": {},
   "outputs": [],
   "source": [
    "with open('cache/distance_matrix', 'rb') as f:\n",
    "    best_ever = pickle.load(f)"
   ]
  },
  {
   "cell_type": "code",
   "execution_count": 50,
   "metadata": {},
   "outputs": [
    {
     "name": "stdout",
     "output_type": "stream",
     "text": [
      "9791\n",
      "9998\n",
      "7567\n",
      "9233\n",
      "9056\n",
      "13543\n",
      "13448\n",
      "8054\n",
      "10319\n",
      "13985\n"
     ]
    },
    {
     "data": {
      "text/plain": [
       "[[0, 1, 25],\n",
       " [0, 26, 23, 3],\n",
       " [0, 5, 8, 19, 4, 15, 7],\n",
       " [0,\n",
       "  12,\n",
       "  29,\n",
       "  11,\n",
       "  13,\n",
       "  24,\n",
       "  30,\n",
       "  2,\n",
       "  18,\n",
       "  9,\n",
       "  32,\n",
       "  6,\n",
       "  14,\n",
       "  28,\n",
       "  27,\n",
       "  22,\n",
       "  20,\n",
       "  21,\n",
       "  16,\n",
       "  17,\n",
       "  31,\n",
       "  10]]"
      ]
     },
     "execution_count": 50,
     "metadata": {},
     "output_type": "execute_result"
    }
   ],
   "source": [
    "routingGA = RoutingGA(popSize=200, qtyLocations=len(distances) - 1, qtyRoutes=3,\n",
    "                          maxGenerations=800, selectionK=5, mutationRate=0.05, optRate=0.02,distances=distances)\n",
    "                           \n",
    "lib = GALib(routingGA=routingGA,\n",
    "            libPath=os.getenv('LIB_PATH'))\n",
    "\n",
    "best = None\n",
    "for i in range(0, 10):\n",
    "    routes = lib.run()\n",
    "    distance = routingGA.calculate_total_distance(routes)\n",
    "    print(distance)\n",
    "    if distance <= routingGA.calculate_total_distance(best):\n",
    "        best = routes\n",
    "\n",
    "best"
   ]
  },
  {
   "cell_type": "code",
   "execution_count": 44,
   "metadata": {},
   "outputs": [
    {
     "data": {
      "text/plain": [
       "7368"
      ]
     },
     "execution_count": 44,
     "metadata": {},
     "output_type": "execute_result"
    }
   ],
   "source": [
    "routingGA.calculate_total_distance(best)"
   ]
  },
  {
   "cell_type": "code",
   "execution_count": null,
   "metadata": {},
   "outputs": [],
   "source": [
    "# route_addresses = [[addresses[y] for y in x] for x in best]\n",
    "# results = mapsAPI.split_directions_request(route_addresses[0])\n",
    "# mapsAPI.save_to_image(results, f\"route_test\")"
   ]
  },
  {
   "cell_type": "code",
   "execution_count": 43,
   "metadata": {},
   "outputs": [],
   "source": [
    "route_addresses = [[addresses[y] for y in x] for x in best]\n",
    "imageCount = 1\n",
    "for route in route_addresses:\n",
    "    directions = mapsAPI.directions(route[0], route[0], route[1: 25])\n",
    "    mapsAPI.save_to_image(directions, f\"route_{imageCount}\")\n",
    "    imageCount += 1"
   ]
  }
 ],
 "metadata": {
  "kernelspec": {
   "display_name": "Python 3.8.10 ('venv': venv)",
   "language": "python",
   "name": "python3"
  },
  "language_info": {
   "codemirror_mode": {
    "name": "ipython",
    "version": 3
   },
   "file_extension": ".py",
   "mimetype": "text/x-python",
   "name": "python",
   "nbconvert_exporter": "python",
   "pygments_lexer": "ipython3",
   "version": "3.8.10"
  },
  "orig_nbformat": 4,
  "vscode": {
   "interpreter": {
    "hash": "f05a8700d02b0bf80292e9a8ff12fc6d1d5cb4c23f0edcc4b46af3b308e591ed"
   }
  }
 },
 "nbformat": 4,
 "nbformat_minor": 2
}
